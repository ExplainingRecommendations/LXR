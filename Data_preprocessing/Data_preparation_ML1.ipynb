{
 "cells": [
  {
   "cell_type": "code",
   "execution_count": 1,
   "id": "525a850f",
   "metadata": {
    "tags": []
   },
   "outputs": [],
   "source": [
    "import pandas as pd\n",
    "import numpy as np\n",
    "import torch\n",
    "import torch.nn as nn\n",
    "\n",
    "from torch.utils.data import Dataset\n",
    "from torch.utils.data import DataLoader\n",
    "from torch.nn import Linear\n",
    "from torch.nn import ReLU\n",
    "from torch.nn import Sigmoid\n",
    "from torch.nn import Softmax\n",
    "from torch.nn import Module\n",
    "from torch.optim import SGD\n",
    "from torch.nn import BCELoss\n",
    "from torch.nn import CrossEntropyLoss"
   ]
  },
  {
   "cell_type": "code",
   "execution_count": 2,
   "id": "6056ad92",
   "metadata": {
    "tags": []
   },
   "outputs": [],
   "source": [
    "from sklearn.preprocessing import LabelEncoder\n",
    "from sklearn.model_selection import train_test_split\n",
    "from sklearn.preprocessing import MultiLabelBinarizer\n",
    "from sklearn.metrics.pairwise import cosine_similarity\n",
    "\n",
    "from scipy import sparse\n",
    "import os\n",
    "from os import path\n",
    "from pathlib import Path\n",
    "import pickle\n",
    "import operator\n",
    "\n",
    "SEED = 3\n",
    "np.random.seed(SEED)"
   ]
  },
  {
   "cell_type": "markdown",
   "id": "0d58bcf8-29c2-4ce2-b821-d160fc5e61f3",
   "metadata": {},
   "source": [
    "## Load data"
   ]
  },
  {
   "cell_type": "code",
   "execution_count": 3,
   "id": "31816f50",
   "metadata": {
    "tags": []
   },
   "outputs": [],
   "source": [
    "ML_DIR = \"Data\"\n",
    "export_dir = Path(os.getcwd())\n",
    "files_path = Path(export_dir.parent, ML_DIR)"
   ]
  },
  {
   "cell_type": "code",
   "execution_count": 4,
   "id": "3bf04888-e13f-4590-816b-1402e307d78e",
   "metadata": {},
   "outputs": [
    {
     "name": "stdout",
     "output_type": "stream",
     "text": [
      "/media/dready/Data/dready/LXR/Data_preprocessing\n"
     ]
    }
   ],
   "source": [
    "print(export_dir)"
   ]
  },
  {
   "cell_type": "code",
   "execution_count": 5,
   "id": "fec097da",
   "metadata": {
    "tags": []
   },
   "outputs": [],
   "source": [
    "data = pd.read_csv(Path(files_path, \"ratings.dat\"), sep=\"::\", engine=\"python\",\n",
    "                   names=[\"user_id_original\", \"item_id_original\", \"rating\", \"timestamp\"])"
   ]
  },
  {
   "cell_type": "code",
   "execution_count": 6,
   "id": "e696b90a",
   "metadata": {
    "tags": []
   },
   "outputs": [
    {
     "data": {
      "text/html": [
       "<div>\n",
       "<style scoped>\n",
       "    .dataframe tbody tr th:only-of-type {\n",
       "        vertical-align: middle;\n",
       "    }\n",
       "\n",
       "    .dataframe tbody tr th {\n",
       "        vertical-align: top;\n",
       "    }\n",
       "\n",
       "    .dataframe thead th {\n",
       "        text-align: right;\n",
       "    }\n",
       "</style>\n",
       "<table border=\"1\" class=\"dataframe\">\n",
       "  <thead>\n",
       "    <tr style=\"text-align: right;\">\n",
       "      <th></th>\n",
       "      <th>user_id_original</th>\n",
       "      <th>item_id_original</th>\n",
       "      <th>rating</th>\n",
       "      <th>timestamp</th>\n",
       "    </tr>\n",
       "  </thead>\n",
       "  <tbody>\n",
       "    <tr>\n",
       "      <th>0</th>\n",
       "      <td>1</td>\n",
       "      <td>1193</td>\n",
       "      <td>5</td>\n",
       "      <td>978300760</td>\n",
       "    </tr>\n",
       "    <tr>\n",
       "      <th>1</th>\n",
       "      <td>1</td>\n",
       "      <td>661</td>\n",
       "      <td>3</td>\n",
       "      <td>978302109</td>\n",
       "    </tr>\n",
       "    <tr>\n",
       "      <th>2</th>\n",
       "      <td>1</td>\n",
       "      <td>914</td>\n",
       "      <td>3</td>\n",
       "      <td>978301968</td>\n",
       "    </tr>\n",
       "    <tr>\n",
       "      <th>3</th>\n",
       "      <td>1</td>\n",
       "      <td>3408</td>\n",
       "      <td>4</td>\n",
       "      <td>978300275</td>\n",
       "    </tr>\n",
       "    <tr>\n",
       "      <th>4</th>\n",
       "      <td>1</td>\n",
       "      <td>2355</td>\n",
       "      <td>5</td>\n",
       "      <td>978824291</td>\n",
       "    </tr>\n",
       "  </tbody>\n",
       "</table>\n",
       "</div>"
      ],
      "text/plain": [
       "   user_id_original  item_id_original  rating  timestamp\n",
       "0                 1              1193       5  978300760\n",
       "1                 1               661       3  978302109\n",
       "2                 1               914       3  978301968\n",
       "3                 1              3408       4  978300275\n",
       "4                 1              2355       5  978824291"
      ]
     },
     "execution_count": 6,
     "metadata": {},
     "output_type": "execute_result"
    }
   ],
   "source": [
    "data.head()"
   ]
  },
  {
   "cell_type": "markdown",
   "id": "0e8f0d7d-22b5-497f-b846-b4cc0d134eb2",
   "metadata": {},
   "source": [
    "## Getting some data statistics on users' history"
   ]
  },
  {
   "cell_type": "code",
   "execution_count": 7,
   "id": "1b78ac54-fa27-4326-8ef7-576b2ad4fee4",
   "metadata": {},
   "outputs": [
    {
     "data": {
      "text/plain": [
       "3095"
      ]
     },
     "execution_count": 7,
     "metadata": {},
     "output_type": "execute_result"
    }
   ],
   "source": [
    "sum(data.groupby('user_id_original')['item_id_original'].count() < 100)"
   ]
  },
  {
   "cell_type": "code",
   "execution_count": 8,
   "id": "080c5c2c-cee8-46ad-a030-c507a5c655d4",
   "metadata": {},
   "outputs": [
    {
     "data": {
      "text/plain": [
       "165.5975165562914"
      ]
     },
     "execution_count": 8,
     "metadata": {},
     "output_type": "execute_result"
    }
   ],
   "source": [
    "np.mean(data.groupby('user_id_original')['item_id_original'].count())"
   ]
  },
  {
   "cell_type": "code",
   "execution_count": 9,
   "id": "768c512c",
   "metadata": {
    "tags": []
   },
   "outputs": [],
   "source": [
    "# Convert the ratings to binary values (1 if rating exists, 0 otherwise)\n",
    "data[\"rating\"] = data[\"rating\"].apply(lambda x: 1 if x > 0 else 0)\n",
    "\n",
    "\n",
    "# Encode target values\n",
    "data[\"user_id\"] = LabelEncoder().fit_transform(data.user_id_original)\n",
    "data[\"item_id\"] = LabelEncoder().fit_transform(data.item_id_original)\n",
    "\n",
    "# Get the number of users and items in the dataset\n",
    "num_users = data.user_id.unique().shape[0]\n",
    "num_items = data.item_id.unique().shape[0]"
   ]
  },
  {
   "cell_type": "markdown",
   "id": "3cb964cf",
   "metadata": {},
   "source": [
    "#### N unique items"
   ]
  },
  {
   "cell_type": "code",
   "execution_count": 10,
   "id": "2af79b76-ce32-4972-8e14-c2286a396727",
   "metadata": {},
   "outputs": [
    {
     "data": {
      "text/plain": [
       "3706"
      ]
     },
     "execution_count": 10,
     "metadata": {},
     "output_type": "execute_result"
    }
   ],
   "source": [
    "data.item_id.nunique()"
   ]
  },
  {
   "cell_type": "markdown",
   "id": "15904888-1acc-4179-99ac-925d111f57c8",
   "metadata": {},
   "source": [
    "## Preprocessing for baselines calculation"
   ]
  },
  {
   "cell_type": "code",
   "execution_count": 88,
   "id": "09938bda-f581-4b7b-98e5-0016ca704716",
   "metadata": {},
   "outputs": [],
   "source": [
    "def jaccard_similarity(set1, set2):\n",
    "    \"\"\"\n",
    "    Calculate the Jaccard similarity between two sets \n",
    "    \"\"\"\n",
    "    intersection = len(set1 & set2)\n",
    "    union = len(set1 | set2)\n",
    "    return intersection / union"
   ]
  },
  {
   "cell_type": "code",
   "execution_count": 11,
   "id": "6424daca-b928-4f82-8cd5-933913413b02",
   "metadata": {
    "tags": []
   },
   "outputs": [],
   "source": [
    "user_group = data[[\"user_id\",\"item_id\"]].groupby(data.user_id)\n",
    "\n",
    "users_data = pd.DataFrame(\n",
    "    data={\n",
    "        \"user_id\": list(user_group.groups.keys()),\n",
    "        \"item_ids\": list(user_group.item_id.apply(list)),\n",
    "    }    \n",
    ")"
   ]
  },
  {
   "cell_type": "code",
   "execution_count": 12,
   "id": "ca9b495d",
   "metadata": {
    "tags": []
   },
   "outputs": [],
   "source": [
    "mlb = MultiLabelBinarizer()\n",
    "user_one_hot = pd.DataFrame(mlb.fit_transform(users_data[\"item_ids\"]),columns=mlb.classes_, index=users_data[\"item_ids\"].index)"
   ]
  },
  {
   "cell_type": "code",
   "execution_count": 13,
   "id": "a824ee70",
   "metadata": {
    "tags": []
   },
   "outputs": [],
   "source": [
    "user_one_hot[\"user_id\"] = users_data[\"user_id\"]"
   ]
  },
  {
   "cell_type": "code",
   "execution_count": 14,
   "id": "64b7ba1f",
   "metadata": {
    "tags": []
   },
   "outputs": [
    {
     "data": {
      "text/html": [
       "<div>\n",
       "<style scoped>\n",
       "    .dataframe tbody tr th:only-of-type {\n",
       "        vertical-align: middle;\n",
       "    }\n",
       "\n",
       "    .dataframe tbody tr th {\n",
       "        vertical-align: top;\n",
       "    }\n",
       "\n",
       "    .dataframe thead th {\n",
       "        text-align: right;\n",
       "    }\n",
       "</style>\n",
       "<table border=\"1\" class=\"dataframe\">\n",
       "  <thead>\n",
       "    <tr style=\"text-align: right;\">\n",
       "      <th></th>\n",
       "      <th>0</th>\n",
       "      <th>1</th>\n",
       "      <th>2</th>\n",
       "      <th>3</th>\n",
       "      <th>4</th>\n",
       "      <th>5</th>\n",
       "      <th>6</th>\n",
       "      <th>7</th>\n",
       "      <th>8</th>\n",
       "      <th>9</th>\n",
       "      <th>...</th>\n",
       "      <th>3697</th>\n",
       "      <th>3698</th>\n",
       "      <th>3699</th>\n",
       "      <th>3700</th>\n",
       "      <th>3701</th>\n",
       "      <th>3702</th>\n",
       "      <th>3703</th>\n",
       "      <th>3704</th>\n",
       "      <th>3705</th>\n",
       "      <th>user_id</th>\n",
       "    </tr>\n",
       "  </thead>\n",
       "  <tbody>\n",
       "    <tr>\n",
       "      <th>0</th>\n",
       "      <td>1</td>\n",
       "      <td>0</td>\n",
       "      <td>0</td>\n",
       "      <td>0</td>\n",
       "      <td>0</td>\n",
       "      <td>0</td>\n",
       "      <td>0</td>\n",
       "      <td>0</td>\n",
       "      <td>0</td>\n",
       "      <td>0</td>\n",
       "      <td>...</td>\n",
       "      <td>0</td>\n",
       "      <td>0</td>\n",
       "      <td>0</td>\n",
       "      <td>0</td>\n",
       "      <td>0</td>\n",
       "      <td>0</td>\n",
       "      <td>0</td>\n",
       "      <td>0</td>\n",
       "      <td>0</td>\n",
       "      <td>0</td>\n",
       "    </tr>\n",
       "    <tr>\n",
       "      <th>1</th>\n",
       "      <td>0</td>\n",
       "      <td>0</td>\n",
       "      <td>0</td>\n",
       "      <td>0</td>\n",
       "      <td>0</td>\n",
       "      <td>0</td>\n",
       "      <td>0</td>\n",
       "      <td>0</td>\n",
       "      <td>0</td>\n",
       "      <td>0</td>\n",
       "      <td>...</td>\n",
       "      <td>0</td>\n",
       "      <td>0</td>\n",
       "      <td>0</td>\n",
       "      <td>0</td>\n",
       "      <td>0</td>\n",
       "      <td>0</td>\n",
       "      <td>0</td>\n",
       "      <td>0</td>\n",
       "      <td>0</td>\n",
       "      <td>1</td>\n",
       "    </tr>\n",
       "    <tr>\n",
       "      <th>2</th>\n",
       "      <td>0</td>\n",
       "      <td>0</td>\n",
       "      <td>0</td>\n",
       "      <td>0</td>\n",
       "      <td>0</td>\n",
       "      <td>0</td>\n",
       "      <td>0</td>\n",
       "      <td>0</td>\n",
       "      <td>0</td>\n",
       "      <td>0</td>\n",
       "      <td>...</td>\n",
       "      <td>0</td>\n",
       "      <td>0</td>\n",
       "      <td>0</td>\n",
       "      <td>0</td>\n",
       "      <td>0</td>\n",
       "      <td>0</td>\n",
       "      <td>0</td>\n",
       "      <td>0</td>\n",
       "      <td>0</td>\n",
       "      <td>2</td>\n",
       "    </tr>\n",
       "    <tr>\n",
       "      <th>3</th>\n",
       "      <td>0</td>\n",
       "      <td>0</td>\n",
       "      <td>0</td>\n",
       "      <td>0</td>\n",
       "      <td>0</td>\n",
       "      <td>0</td>\n",
       "      <td>0</td>\n",
       "      <td>0</td>\n",
       "      <td>0</td>\n",
       "      <td>0</td>\n",
       "      <td>...</td>\n",
       "      <td>0</td>\n",
       "      <td>0</td>\n",
       "      <td>0</td>\n",
       "      <td>0</td>\n",
       "      <td>0</td>\n",
       "      <td>0</td>\n",
       "      <td>0</td>\n",
       "      <td>0</td>\n",
       "      <td>0</td>\n",
       "      <td>3</td>\n",
       "    </tr>\n",
       "    <tr>\n",
       "      <th>4</th>\n",
       "      <td>0</td>\n",
       "      <td>0</td>\n",
       "      <td>0</td>\n",
       "      <td>0</td>\n",
       "      <td>0</td>\n",
       "      <td>1</td>\n",
       "      <td>0</td>\n",
       "      <td>0</td>\n",
       "      <td>0</td>\n",
       "      <td>0</td>\n",
       "      <td>...</td>\n",
       "      <td>0</td>\n",
       "      <td>0</td>\n",
       "      <td>0</td>\n",
       "      <td>0</td>\n",
       "      <td>0</td>\n",
       "      <td>0</td>\n",
       "      <td>0</td>\n",
       "      <td>0</td>\n",
       "      <td>0</td>\n",
       "      <td>4</td>\n",
       "    </tr>\n",
       "    <tr>\n",
       "      <th>...</th>\n",
       "      <td>...</td>\n",
       "      <td>...</td>\n",
       "      <td>...</td>\n",
       "      <td>...</td>\n",
       "      <td>...</td>\n",
       "      <td>...</td>\n",
       "      <td>...</td>\n",
       "      <td>...</td>\n",
       "      <td>...</td>\n",
       "      <td>...</td>\n",
       "      <td>...</td>\n",
       "      <td>...</td>\n",
       "      <td>...</td>\n",
       "      <td>...</td>\n",
       "      <td>...</td>\n",
       "      <td>...</td>\n",
       "      <td>...</td>\n",
       "      <td>...</td>\n",
       "      <td>...</td>\n",
       "      <td>...</td>\n",
       "      <td>...</td>\n",
       "    </tr>\n",
       "    <tr>\n",
       "      <th>6035</th>\n",
       "      <td>0</td>\n",
       "      <td>0</td>\n",
       "      <td>0</td>\n",
       "      <td>1</td>\n",
       "      <td>0</td>\n",
       "      <td>1</td>\n",
       "      <td>0</td>\n",
       "      <td>0</td>\n",
       "      <td>0</td>\n",
       "      <td>0</td>\n",
       "      <td>...</td>\n",
       "      <td>0</td>\n",
       "      <td>0</td>\n",
       "      <td>0</td>\n",
       "      <td>0</td>\n",
       "      <td>0</td>\n",
       "      <td>0</td>\n",
       "      <td>0</td>\n",
       "      <td>0</td>\n",
       "      <td>0</td>\n",
       "      <td>6035</td>\n",
       "    </tr>\n",
       "    <tr>\n",
       "      <th>6036</th>\n",
       "      <td>0</td>\n",
       "      <td>0</td>\n",
       "      <td>0</td>\n",
       "      <td>0</td>\n",
       "      <td>0</td>\n",
       "      <td>0</td>\n",
       "      <td>0</td>\n",
       "      <td>0</td>\n",
       "      <td>0</td>\n",
       "      <td>0</td>\n",
       "      <td>...</td>\n",
       "      <td>0</td>\n",
       "      <td>0</td>\n",
       "      <td>0</td>\n",
       "      <td>0</td>\n",
       "      <td>0</td>\n",
       "      <td>0</td>\n",
       "      <td>0</td>\n",
       "      <td>0</td>\n",
       "      <td>0</td>\n",
       "      <td>6036</td>\n",
       "    </tr>\n",
       "    <tr>\n",
       "      <th>6037</th>\n",
       "      <td>0</td>\n",
       "      <td>0</td>\n",
       "      <td>0</td>\n",
       "      <td>0</td>\n",
       "      <td>0</td>\n",
       "      <td>0</td>\n",
       "      <td>0</td>\n",
       "      <td>0</td>\n",
       "      <td>0</td>\n",
       "      <td>0</td>\n",
       "      <td>...</td>\n",
       "      <td>0</td>\n",
       "      <td>0</td>\n",
       "      <td>0</td>\n",
       "      <td>0</td>\n",
       "      <td>0</td>\n",
       "      <td>0</td>\n",
       "      <td>0</td>\n",
       "      <td>0</td>\n",
       "      <td>0</td>\n",
       "      <td>6037</td>\n",
       "    </tr>\n",
       "    <tr>\n",
       "      <th>6038</th>\n",
       "      <td>0</td>\n",
       "      <td>0</td>\n",
       "      <td>0</td>\n",
       "      <td>0</td>\n",
       "      <td>0</td>\n",
       "      <td>0</td>\n",
       "      <td>0</td>\n",
       "      <td>0</td>\n",
       "      <td>0</td>\n",
       "      <td>0</td>\n",
       "      <td>...</td>\n",
       "      <td>0</td>\n",
       "      <td>0</td>\n",
       "      <td>0</td>\n",
       "      <td>0</td>\n",
       "      <td>0</td>\n",
       "      <td>0</td>\n",
       "      <td>0</td>\n",
       "      <td>0</td>\n",
       "      <td>0</td>\n",
       "      <td>6038</td>\n",
       "    </tr>\n",
       "    <tr>\n",
       "      <th>6039</th>\n",
       "      <td>1</td>\n",
       "      <td>0</td>\n",
       "      <td>0</td>\n",
       "      <td>0</td>\n",
       "      <td>0</td>\n",
       "      <td>0</td>\n",
       "      <td>0</td>\n",
       "      <td>0</td>\n",
       "      <td>0</td>\n",
       "      <td>0</td>\n",
       "      <td>...</td>\n",
       "      <td>0</td>\n",
       "      <td>0</td>\n",
       "      <td>0</td>\n",
       "      <td>0</td>\n",
       "      <td>0</td>\n",
       "      <td>0</td>\n",
       "      <td>0</td>\n",
       "      <td>0</td>\n",
       "      <td>0</td>\n",
       "      <td>6039</td>\n",
       "    </tr>\n",
       "  </tbody>\n",
       "</table>\n",
       "<p>6040 rows × 3707 columns</p>\n",
       "</div>"
      ],
      "text/plain": [
       "      0  1  2  3  4  5  6  7  8  9  ...  3697  3698  3699  3700  3701  3702  \\\n",
       "0     1  0  0  0  0  0  0  0  0  0  ...     0     0     0     0     0     0   \n",
       "1     0  0  0  0  0  0  0  0  0  0  ...     0     0     0     0     0     0   \n",
       "2     0  0  0  0  0  0  0  0  0  0  ...     0     0     0     0     0     0   \n",
       "3     0  0  0  0  0  0  0  0  0  0  ...     0     0     0     0     0     0   \n",
       "4     0  0  0  0  0  1  0  0  0  0  ...     0     0     0     0     0     0   \n",
       "...  .. .. .. .. .. .. .. .. .. ..  ...   ...   ...   ...   ...   ...   ...   \n",
       "6035  0  0  0  1  0  1  0  0  0  0  ...     0     0     0     0     0     0   \n",
       "6036  0  0  0  0  0  0  0  0  0  0  ...     0     0     0     0     0     0   \n",
       "6037  0  0  0  0  0  0  0  0  0  0  ...     0     0     0     0     0     0   \n",
       "6038  0  0  0  0  0  0  0  0  0  0  ...     0     0     0     0     0     0   \n",
       "6039  1  0  0  0  0  0  0  0  0  0  ...     0     0     0     0     0     0   \n",
       "\n",
       "      3703  3704  3705  user_id  \n",
       "0        0     0     0        0  \n",
       "1        0     0     0        1  \n",
       "2        0     0     0        2  \n",
       "3        0     0     0        3  \n",
       "4        0     0     0        4  \n",
       "...    ...   ...   ...      ...  \n",
       "6035     0     0     0     6035  \n",
       "6036     0     0     0     6036  \n",
       "6037     0     0     0     6037  \n",
       "6038     0     0     0     6038  \n",
       "6039     0     0     0     6039  \n",
       "\n",
       "[6040 rows x 3707 columns]"
      ]
     },
     "execution_count": 14,
     "metadata": {},
     "output_type": "execute_result"
    }
   ],
   "source": [
    "user_one_hot"
   ]
  },
  {
   "cell_type": "code",
   "execution_count": 15,
   "id": "11485910-e042-4506-9601-40f66fe108bf",
   "metadata": {
    "tags": []
   },
   "outputs": [
    {
     "data": {
      "text/html": [
       "<div>\n",
       "<style scoped>\n",
       "    .dataframe tbody tr th:only-of-type {\n",
       "        vertical-align: middle;\n",
       "    }\n",
       "\n",
       "    .dataframe tbody tr th {\n",
       "        vertical-align: top;\n",
       "    }\n",
       "\n",
       "    .dataframe thead th {\n",
       "        text-align: right;\n",
       "    }\n",
       "</style>\n",
       "<table border=\"1\" class=\"dataframe\">\n",
       "  <thead>\n",
       "    <tr style=\"text-align: right;\">\n",
       "      <th></th>\n",
       "      <th>0</th>\n",
       "      <th>1</th>\n",
       "      <th>2</th>\n",
       "      <th>3</th>\n",
       "      <th>4</th>\n",
       "      <th>5</th>\n",
       "      <th>6</th>\n",
       "      <th>7</th>\n",
       "      <th>8</th>\n",
       "      <th>9</th>\n",
       "      <th>...</th>\n",
       "      <th>3696</th>\n",
       "      <th>3697</th>\n",
       "      <th>3698</th>\n",
       "      <th>3699</th>\n",
       "      <th>3700</th>\n",
       "      <th>3701</th>\n",
       "      <th>3702</th>\n",
       "      <th>3703</th>\n",
       "      <th>3704</th>\n",
       "      <th>3705</th>\n",
       "    </tr>\n",
       "  </thead>\n",
       "  <tbody>\n",
       "    <tr>\n",
       "      <th>0</th>\n",
       "      <td>1</td>\n",
       "      <td>0</td>\n",
       "      <td>0</td>\n",
       "      <td>0</td>\n",
       "      <td>0</td>\n",
       "      <td>0</td>\n",
       "      <td>0</td>\n",
       "      <td>0</td>\n",
       "      <td>0</td>\n",
       "      <td>0</td>\n",
       "      <td>...</td>\n",
       "      <td>0</td>\n",
       "      <td>0</td>\n",
       "      <td>0</td>\n",
       "      <td>0</td>\n",
       "      <td>0</td>\n",
       "      <td>0</td>\n",
       "      <td>0</td>\n",
       "      <td>0</td>\n",
       "      <td>0</td>\n",
       "      <td>0</td>\n",
       "    </tr>\n",
       "    <tr>\n",
       "      <th>1</th>\n",
       "      <td>0</td>\n",
       "      <td>0</td>\n",
       "      <td>0</td>\n",
       "      <td>0</td>\n",
       "      <td>0</td>\n",
       "      <td>0</td>\n",
       "      <td>0</td>\n",
       "      <td>0</td>\n",
       "      <td>0</td>\n",
       "      <td>0</td>\n",
       "      <td>...</td>\n",
       "      <td>0</td>\n",
       "      <td>0</td>\n",
       "      <td>0</td>\n",
       "      <td>0</td>\n",
       "      <td>0</td>\n",
       "      <td>0</td>\n",
       "      <td>0</td>\n",
       "      <td>0</td>\n",
       "      <td>0</td>\n",
       "      <td>0</td>\n",
       "    </tr>\n",
       "    <tr>\n",
       "      <th>2</th>\n",
       "      <td>0</td>\n",
       "      <td>0</td>\n",
       "      <td>0</td>\n",
       "      <td>0</td>\n",
       "      <td>0</td>\n",
       "      <td>0</td>\n",
       "      <td>0</td>\n",
       "      <td>0</td>\n",
       "      <td>0</td>\n",
       "      <td>0</td>\n",
       "      <td>...</td>\n",
       "      <td>0</td>\n",
       "      <td>0</td>\n",
       "      <td>0</td>\n",
       "      <td>0</td>\n",
       "      <td>0</td>\n",
       "      <td>0</td>\n",
       "      <td>0</td>\n",
       "      <td>0</td>\n",
       "      <td>0</td>\n",
       "      <td>0</td>\n",
       "    </tr>\n",
       "    <tr>\n",
       "      <th>3</th>\n",
       "      <td>0</td>\n",
       "      <td>0</td>\n",
       "      <td>0</td>\n",
       "      <td>0</td>\n",
       "      <td>0</td>\n",
       "      <td>0</td>\n",
       "      <td>0</td>\n",
       "      <td>0</td>\n",
       "      <td>0</td>\n",
       "      <td>0</td>\n",
       "      <td>...</td>\n",
       "      <td>0</td>\n",
       "      <td>0</td>\n",
       "      <td>0</td>\n",
       "      <td>0</td>\n",
       "      <td>0</td>\n",
       "      <td>0</td>\n",
       "      <td>0</td>\n",
       "      <td>0</td>\n",
       "      <td>0</td>\n",
       "      <td>0</td>\n",
       "    </tr>\n",
       "    <tr>\n",
       "      <th>4</th>\n",
       "      <td>0</td>\n",
       "      <td>0</td>\n",
       "      <td>0</td>\n",
       "      <td>0</td>\n",
       "      <td>0</td>\n",
       "      <td>1</td>\n",
       "      <td>0</td>\n",
       "      <td>0</td>\n",
       "      <td>0</td>\n",
       "      <td>0</td>\n",
       "      <td>...</td>\n",
       "      <td>0</td>\n",
       "      <td>0</td>\n",
       "      <td>0</td>\n",
       "      <td>0</td>\n",
       "      <td>0</td>\n",
       "      <td>0</td>\n",
       "      <td>0</td>\n",
       "      <td>0</td>\n",
       "      <td>0</td>\n",
       "      <td>0</td>\n",
       "    </tr>\n",
       "    <tr>\n",
       "      <th>...</th>\n",
       "      <td>...</td>\n",
       "      <td>...</td>\n",
       "      <td>...</td>\n",
       "      <td>...</td>\n",
       "      <td>...</td>\n",
       "      <td>...</td>\n",
       "      <td>...</td>\n",
       "      <td>...</td>\n",
       "      <td>...</td>\n",
       "      <td>...</td>\n",
       "      <td>...</td>\n",
       "      <td>...</td>\n",
       "      <td>...</td>\n",
       "      <td>...</td>\n",
       "      <td>...</td>\n",
       "      <td>...</td>\n",
       "      <td>...</td>\n",
       "      <td>...</td>\n",
       "      <td>...</td>\n",
       "      <td>...</td>\n",
       "      <td>...</td>\n",
       "    </tr>\n",
       "    <tr>\n",
       "      <th>6035</th>\n",
       "      <td>0</td>\n",
       "      <td>0</td>\n",
       "      <td>0</td>\n",
       "      <td>1</td>\n",
       "      <td>0</td>\n",
       "      <td>1</td>\n",
       "      <td>0</td>\n",
       "      <td>0</td>\n",
       "      <td>0</td>\n",
       "      <td>0</td>\n",
       "      <td>...</td>\n",
       "      <td>0</td>\n",
       "      <td>0</td>\n",
       "      <td>0</td>\n",
       "      <td>0</td>\n",
       "      <td>0</td>\n",
       "      <td>0</td>\n",
       "      <td>0</td>\n",
       "      <td>0</td>\n",
       "      <td>0</td>\n",
       "      <td>0</td>\n",
       "    </tr>\n",
       "    <tr>\n",
       "      <th>6036</th>\n",
       "      <td>0</td>\n",
       "      <td>0</td>\n",
       "      <td>0</td>\n",
       "      <td>0</td>\n",
       "      <td>0</td>\n",
       "      <td>0</td>\n",
       "      <td>0</td>\n",
       "      <td>0</td>\n",
       "      <td>0</td>\n",
       "      <td>0</td>\n",
       "      <td>...</td>\n",
       "      <td>0</td>\n",
       "      <td>0</td>\n",
       "      <td>0</td>\n",
       "      <td>0</td>\n",
       "      <td>0</td>\n",
       "      <td>0</td>\n",
       "      <td>0</td>\n",
       "      <td>0</td>\n",
       "      <td>0</td>\n",
       "      <td>0</td>\n",
       "    </tr>\n",
       "    <tr>\n",
       "      <th>6037</th>\n",
       "      <td>0</td>\n",
       "      <td>0</td>\n",
       "      <td>0</td>\n",
       "      <td>0</td>\n",
       "      <td>0</td>\n",
       "      <td>0</td>\n",
       "      <td>0</td>\n",
       "      <td>0</td>\n",
       "      <td>0</td>\n",
       "      <td>0</td>\n",
       "      <td>...</td>\n",
       "      <td>0</td>\n",
       "      <td>0</td>\n",
       "      <td>0</td>\n",
       "      <td>0</td>\n",
       "      <td>0</td>\n",
       "      <td>0</td>\n",
       "      <td>0</td>\n",
       "      <td>0</td>\n",
       "      <td>0</td>\n",
       "      <td>0</td>\n",
       "    </tr>\n",
       "    <tr>\n",
       "      <th>6038</th>\n",
       "      <td>0</td>\n",
       "      <td>0</td>\n",
       "      <td>0</td>\n",
       "      <td>0</td>\n",
       "      <td>0</td>\n",
       "      <td>0</td>\n",
       "      <td>0</td>\n",
       "      <td>0</td>\n",
       "      <td>0</td>\n",
       "      <td>0</td>\n",
       "      <td>...</td>\n",
       "      <td>0</td>\n",
       "      <td>0</td>\n",
       "      <td>0</td>\n",
       "      <td>0</td>\n",
       "      <td>0</td>\n",
       "      <td>0</td>\n",
       "      <td>0</td>\n",
       "      <td>0</td>\n",
       "      <td>0</td>\n",
       "      <td>0</td>\n",
       "    </tr>\n",
       "    <tr>\n",
       "      <th>6039</th>\n",
       "      <td>1</td>\n",
       "      <td>0</td>\n",
       "      <td>0</td>\n",
       "      <td>0</td>\n",
       "      <td>0</td>\n",
       "      <td>0</td>\n",
       "      <td>0</td>\n",
       "      <td>0</td>\n",
       "      <td>0</td>\n",
       "      <td>0</td>\n",
       "      <td>...</td>\n",
       "      <td>0</td>\n",
       "      <td>0</td>\n",
       "      <td>0</td>\n",
       "      <td>0</td>\n",
       "      <td>0</td>\n",
       "      <td>0</td>\n",
       "      <td>0</td>\n",
       "      <td>0</td>\n",
       "      <td>0</td>\n",
       "      <td>0</td>\n",
       "    </tr>\n",
       "  </tbody>\n",
       "</table>\n",
       "<p>6040 rows × 3706 columns</p>\n",
       "</div>"
      ],
      "text/plain": [
       "      0     1     2     3     4     5     6     7     8     9     ...  3696  \\\n",
       "0        1     0     0     0     0     0     0     0     0     0  ...     0   \n",
       "1        0     0     0     0     0     0     0     0     0     0  ...     0   \n",
       "2        0     0     0     0     0     0     0     0     0     0  ...     0   \n",
       "3        0     0     0     0     0     0     0     0     0     0  ...     0   \n",
       "4        0     0     0     0     0     1     0     0     0     0  ...     0   \n",
       "...    ...   ...   ...   ...   ...   ...   ...   ...   ...   ...  ...   ...   \n",
       "6035     0     0     0     1     0     1     0     0     0     0  ...     0   \n",
       "6036     0     0     0     0     0     0     0     0     0     0  ...     0   \n",
       "6037     0     0     0     0     0     0     0     0     0     0  ...     0   \n",
       "6038     0     0     0     0     0     0     0     0     0     0  ...     0   \n",
       "6039     1     0     0     0     0     0     0     0     0     0  ...     0   \n",
       "\n",
       "      3697  3698  3699  3700  3701  3702  3703  3704  3705  \n",
       "0        0     0     0     0     0     0     0     0     0  \n",
       "1        0     0     0     0     0     0     0     0     0  \n",
       "2        0     0     0     0     0     0     0     0     0  \n",
       "3        0     0     0     0     0     0     0     0     0  \n",
       "4        0     0     0     0     0     0     0     0     0  \n",
       "...    ...   ...   ...   ...   ...   ...   ...   ...   ...  \n",
       "6035     0     0     0     0     0     0     0     0     0  \n",
       "6036     0     0     0     0     0     0     0     0     0  \n",
       "6037     0     0     0     0     0     0     0     0     0  \n",
       "6038     0     0     0     0     0     0     0     0     0  \n",
       "6039     0     0     0     0     0     0     0     0     0  \n",
       "\n",
       "[6040 rows x 3706 columns]"
      ]
     },
     "execution_count": 15,
     "metadata": {},
     "output_type": "execute_result"
    }
   ],
   "source": [
    "user_one_hot.iloc[:,:-1]"
   ]
  },
  {
   "cell_type": "markdown",
   "id": "15f8aabc-d3b8-406c-81ea-7e92d4e48051",
   "metadata": {},
   "source": [
    "## Positive samples for training"
   ]
  },
  {
   "cell_type": "code",
   "execution_count": 16,
   "id": "03117a7c",
   "metadata": {
    "tags": []
   },
   "outputs": [],
   "source": [
    "def get_y_values(numpy_arr):\n",
    "    \"\"\"\n",
    "    Sample items from consumed items to predict (positive examples)\n",
    "    \"\"\"\n",
    "    y_values = []\n",
    "    users_arr = np.split(numpy_arr[:, 1], np.unique(numpy_arr[:, 0], return_index=True)[1][1:])\n",
    "    for u in users_arr:\n",
    "          y_values.append(int(np.random.choice(u[:-1],1,replace=False)))\n",
    "    return y_values    "
   ]
  },
  {
   "cell_type": "code",
   "execution_count": 17,
   "id": "1afd2a35",
   "metadata": {
    "tags": []
   },
   "outputs": [],
   "source": [
    "y_indices = get_y_values(np.argwhere(user_one_hot.to_numpy()>0))"
   ]
  },
  {
   "cell_type": "code",
   "execution_count": 18,
   "id": "f785b727",
   "metadata": {
    "tags": []
   },
   "outputs": [
    {
     "data": {
      "text/plain": [
       "6040"
      ]
     },
     "execution_count": 18,
     "metadata": {},
     "output_type": "execute_result"
    }
   ],
   "source": [
    "len(y_indices)"
   ]
  },
  {
   "cell_type": "code",
   "execution_count": 19,
   "id": "a33d8a39",
   "metadata": {
    "tags": []
   },
   "outputs": [],
   "source": [
    "user_one_hot[\"y_positive\"] = y_indices"
   ]
  },
  {
   "cell_type": "code",
   "execution_count": 20,
   "id": "71165aee",
   "metadata": {
    "tags": []
   },
   "outputs": [
    {
     "data": {
      "text/html": [
       "<div>\n",
       "<style scoped>\n",
       "    .dataframe tbody tr th:only-of-type {\n",
       "        vertical-align: middle;\n",
       "    }\n",
       "\n",
       "    .dataframe tbody tr th {\n",
       "        vertical-align: top;\n",
       "    }\n",
       "\n",
       "    .dataframe thead th {\n",
       "        text-align: right;\n",
       "    }\n",
       "</style>\n",
       "<table border=\"1\" class=\"dataframe\">\n",
       "  <thead>\n",
       "    <tr style=\"text-align: right;\">\n",
       "      <th></th>\n",
       "      <th>0</th>\n",
       "      <th>1</th>\n",
       "      <th>2</th>\n",
       "      <th>3</th>\n",
       "      <th>4</th>\n",
       "      <th>5</th>\n",
       "      <th>6</th>\n",
       "      <th>7</th>\n",
       "      <th>8</th>\n",
       "      <th>9</th>\n",
       "      <th>...</th>\n",
       "      <th>3698</th>\n",
       "      <th>3699</th>\n",
       "      <th>3700</th>\n",
       "      <th>3701</th>\n",
       "      <th>3702</th>\n",
       "      <th>3703</th>\n",
       "      <th>3704</th>\n",
       "      <th>3705</th>\n",
       "      <th>user_id</th>\n",
       "      <th>y_positive</th>\n",
       "    </tr>\n",
       "  </thead>\n",
       "  <tbody>\n",
       "    <tr>\n",
       "      <th>0</th>\n",
       "      <td>1</td>\n",
       "      <td>0</td>\n",
       "      <td>0</td>\n",
       "      <td>0</td>\n",
       "      <td>0</td>\n",
       "      <td>0</td>\n",
       "      <td>0</td>\n",
       "      <td>0</td>\n",
       "      <td>0</td>\n",
       "      <td>0</td>\n",
       "      <td>...</td>\n",
       "      <td>0</td>\n",
       "      <td>0</td>\n",
       "      <td>0</td>\n",
       "      <td>0</td>\n",
       "      <td>0</td>\n",
       "      <td>0</td>\n",
       "      <td>0</td>\n",
       "      <td>0</td>\n",
       "      <td>0</td>\n",
       "      <td>708</td>\n",
       "    </tr>\n",
       "    <tr>\n",
       "      <th>1</th>\n",
       "      <td>0</td>\n",
       "      <td>0</td>\n",
       "      <td>0</td>\n",
       "      <td>0</td>\n",
       "      <td>0</td>\n",
       "      <td>0</td>\n",
       "      <td>0</td>\n",
       "      <td>0</td>\n",
       "      <td>0</td>\n",
       "      <td>0</td>\n",
       "      <td>...</td>\n",
       "      <td>0</td>\n",
       "      <td>0</td>\n",
       "      <td>0</td>\n",
       "      <td>0</td>\n",
       "      <td>0</td>\n",
       "      <td>0</td>\n",
       "      <td>0</td>\n",
       "      <td>0</td>\n",
       "      <td>1</td>\n",
       "      <td>1550</td>\n",
       "    </tr>\n",
       "    <tr>\n",
       "      <th>2</th>\n",
       "      <td>0</td>\n",
       "      <td>0</td>\n",
       "      <td>0</td>\n",
       "      <td>0</td>\n",
       "      <td>0</td>\n",
       "      <td>0</td>\n",
       "      <td>0</td>\n",
       "      <td>0</td>\n",
       "      <td>0</td>\n",
       "      <td>0</td>\n",
       "      <td>...</td>\n",
       "      <td>0</td>\n",
       "      <td>0</td>\n",
       "      <td>0</td>\n",
       "      <td>0</td>\n",
       "      <td>0</td>\n",
       "      <td>0</td>\n",
       "      <td>0</td>\n",
       "      <td>0</td>\n",
       "      <td>2</td>\n",
       "      <td>1327</td>\n",
       "    </tr>\n",
       "    <tr>\n",
       "      <th>3</th>\n",
       "      <td>0</td>\n",
       "      <td>0</td>\n",
       "      <td>0</td>\n",
       "      <td>0</td>\n",
       "      <td>0</td>\n",
       "      <td>0</td>\n",
       "      <td>0</td>\n",
       "      <td>0</td>\n",
       "      <td>0</td>\n",
       "      <td>0</td>\n",
       "      <td>...</td>\n",
       "      <td>0</td>\n",
       "      <td>0</td>\n",
       "      <td>0</td>\n",
       "      <td>0</td>\n",
       "      <td>0</td>\n",
       "      <td>0</td>\n",
       "      <td>0</td>\n",
       "      <td>0</td>\n",
       "      <td>3</td>\n",
       "      <td>2173</td>\n",
       "    </tr>\n",
       "    <tr>\n",
       "      <th>4</th>\n",
       "      <td>0</td>\n",
       "      <td>0</td>\n",
       "      <td>0</td>\n",
       "      <td>0</td>\n",
       "      <td>0</td>\n",
       "      <td>1</td>\n",
       "      <td>0</td>\n",
       "      <td>0</td>\n",
       "      <td>0</td>\n",
       "      <td>0</td>\n",
       "      <td>...</td>\n",
       "      <td>0</td>\n",
       "      <td>0</td>\n",
       "      <td>0</td>\n",
       "      <td>0</td>\n",
       "      <td>0</td>\n",
       "      <td>0</td>\n",
       "      <td>0</td>\n",
       "      <td>0</td>\n",
       "      <td>4</td>\n",
       "      <td>1356</td>\n",
       "    </tr>\n",
       "    <tr>\n",
       "      <th>...</th>\n",
       "      <td>...</td>\n",
       "      <td>...</td>\n",
       "      <td>...</td>\n",
       "      <td>...</td>\n",
       "      <td>...</td>\n",
       "      <td>...</td>\n",
       "      <td>...</td>\n",
       "      <td>...</td>\n",
       "      <td>...</td>\n",
       "      <td>...</td>\n",
       "      <td>...</td>\n",
       "      <td>...</td>\n",
       "      <td>...</td>\n",
       "      <td>...</td>\n",
       "      <td>...</td>\n",
       "      <td>...</td>\n",
       "      <td>...</td>\n",
       "      <td>...</td>\n",
       "      <td>...</td>\n",
       "      <td>...</td>\n",
       "      <td>...</td>\n",
       "    </tr>\n",
       "    <tr>\n",
       "      <th>6035</th>\n",
       "      <td>0</td>\n",
       "      <td>0</td>\n",
       "      <td>0</td>\n",
       "      <td>1</td>\n",
       "      <td>0</td>\n",
       "      <td>1</td>\n",
       "      <td>0</td>\n",
       "      <td>0</td>\n",
       "      <td>0</td>\n",
       "      <td>0</td>\n",
       "      <td>...</td>\n",
       "      <td>0</td>\n",
       "      <td>0</td>\n",
       "      <td>0</td>\n",
       "      <td>0</td>\n",
       "      <td>0</td>\n",
       "      <td>0</td>\n",
       "      <td>0</td>\n",
       "      <td>0</td>\n",
       "      <td>6035</td>\n",
       "      <td>1581</td>\n",
       "    </tr>\n",
       "    <tr>\n",
       "      <th>6036</th>\n",
       "      <td>0</td>\n",
       "      <td>0</td>\n",
       "      <td>0</td>\n",
       "      <td>0</td>\n",
       "      <td>0</td>\n",
       "      <td>0</td>\n",
       "      <td>0</td>\n",
       "      <td>0</td>\n",
       "      <td>0</td>\n",
       "      <td>0</td>\n",
       "      <td>...</td>\n",
       "      <td>0</td>\n",
       "      <td>0</td>\n",
       "      <td>0</td>\n",
       "      <td>0</td>\n",
       "      <td>0</td>\n",
       "      <td>0</td>\n",
       "      <td>0</td>\n",
       "      <td>0</td>\n",
       "      <td>6036</td>\n",
       "      <td>1537</td>\n",
       "    </tr>\n",
       "    <tr>\n",
       "      <th>6037</th>\n",
       "      <td>0</td>\n",
       "      <td>0</td>\n",
       "      <td>0</td>\n",
       "      <td>0</td>\n",
       "      <td>0</td>\n",
       "      <td>0</td>\n",
       "      <td>0</td>\n",
       "      <td>0</td>\n",
       "      <td>0</td>\n",
       "      <td>0</td>\n",
       "      <td>...</td>\n",
       "      <td>0</td>\n",
       "      <td>0</td>\n",
       "      <td>0</td>\n",
       "      <td>0</td>\n",
       "      <td>0</td>\n",
       "      <td>0</td>\n",
       "      <td>0</td>\n",
       "      <td>0</td>\n",
       "      <td>6037</td>\n",
       "      <td>225</td>\n",
       "    </tr>\n",
       "    <tr>\n",
       "      <th>6038</th>\n",
       "      <td>0</td>\n",
       "      <td>0</td>\n",
       "      <td>0</td>\n",
       "      <td>0</td>\n",
       "      <td>0</td>\n",
       "      <td>0</td>\n",
       "      <td>0</td>\n",
       "      <td>0</td>\n",
       "      <td>0</td>\n",
       "      <td>0</td>\n",
       "      <td>...</td>\n",
       "      <td>0</td>\n",
       "      <td>0</td>\n",
       "      <td>0</td>\n",
       "      <td>0</td>\n",
       "      <td>0</td>\n",
       "      <td>0</td>\n",
       "      <td>0</td>\n",
       "      <td>0</td>\n",
       "      <td>6038</td>\n",
       "      <td>997</td>\n",
       "    </tr>\n",
       "    <tr>\n",
       "      <th>6039</th>\n",
       "      <td>1</td>\n",
       "      <td>0</td>\n",
       "      <td>0</td>\n",
       "      <td>0</td>\n",
       "      <td>0</td>\n",
       "      <td>0</td>\n",
       "      <td>0</td>\n",
       "      <td>0</td>\n",
       "      <td>0</td>\n",
       "      <td>0</td>\n",
       "      <td>...</td>\n",
       "      <td>0</td>\n",
       "      <td>0</td>\n",
       "      <td>0</td>\n",
       "      <td>0</td>\n",
       "      <td>0</td>\n",
       "      <td>0</td>\n",
       "      <td>0</td>\n",
       "      <td>0</td>\n",
       "      <td>6039</td>\n",
       "      <td>1895</td>\n",
       "    </tr>\n",
       "  </tbody>\n",
       "</table>\n",
       "<p>6040 rows × 3708 columns</p>\n",
       "</div>"
      ],
      "text/plain": [
       "      0  1  2  3  4  5  6  7  8  9  ...  3698  3699  3700  3701  3702  3703  \\\n",
       "0     1  0  0  0  0  0  0  0  0  0  ...     0     0     0     0     0     0   \n",
       "1     0  0  0  0  0  0  0  0  0  0  ...     0     0     0     0     0     0   \n",
       "2     0  0  0  0  0  0  0  0  0  0  ...     0     0     0     0     0     0   \n",
       "3     0  0  0  0  0  0  0  0  0  0  ...     0     0     0     0     0     0   \n",
       "4     0  0  0  0  0  1  0  0  0  0  ...     0     0     0     0     0     0   \n",
       "...  .. .. .. .. .. .. .. .. .. ..  ...   ...   ...   ...   ...   ...   ...   \n",
       "6035  0  0  0  1  0  1  0  0  0  0  ...     0     0     0     0     0     0   \n",
       "6036  0  0  0  0  0  0  0  0  0  0  ...     0     0     0     0     0     0   \n",
       "6037  0  0  0  0  0  0  0  0  0  0  ...     0     0     0     0     0     0   \n",
       "6038  0  0  0  0  0  0  0  0  0  0  ...     0     0     0     0     0     0   \n",
       "6039  1  0  0  0  0  0  0  0  0  0  ...     0     0     0     0     0     0   \n",
       "\n",
       "      3704  3705  user_id  y_positive  \n",
       "0        0     0        0         708  \n",
       "1        0     0        1        1550  \n",
       "2        0     0        2        1327  \n",
       "3        0     0        3        2173  \n",
       "4        0     0        4        1356  \n",
       "...    ...   ...      ...         ...  \n",
       "6035     0     0     6035        1581  \n",
       "6036     0     0     6036        1537  \n",
       "6037     0     0     6037         225  \n",
       "6038     0     0     6038         997  \n",
       "6039     0     0     6039        1895  \n",
       "\n",
       "[6040 rows x 3708 columns]"
      ]
     },
     "execution_count": 20,
     "metadata": {},
     "output_type": "execute_result"
    }
   ],
   "source": [
    "user_one_hot"
   ]
  },
  {
   "cell_type": "markdown",
   "id": "76da87e6",
   "metadata": {},
   "source": [
    "#### Create representation of each item as a binary vector"
   ]
  },
  {
   "cell_type": "code",
   "execution_count": 21,
   "id": "2cf1a461",
   "metadata": {
    "tags": []
   },
   "outputs": [],
   "source": [
    "items_values = pd.DataFrame(np.eye(num_items,dtype=int), columns=np.arange(num_items))"
   ]
  },
  {
   "cell_type": "code",
   "execution_count": 22,
   "id": "81aa2809",
   "metadata": {
    "tags": []
   },
   "outputs": [],
   "source": [
    "items_values.to_csv(Path(export_dir, \"items_values.csv\"), index = False)"
   ]
  },
  {
   "cell_type": "code",
   "execution_count": 23,
   "id": "0968bbb1",
   "metadata": {
    "tags": []
   },
   "outputs": [
    {
     "data": {
      "text/plain": [
       "1"
      ]
     },
     "execution_count": 23,
     "metadata": {},
     "output_type": "execute_result"
    }
   ],
   "source": [
    "items_values.iloc[581][581]"
   ]
  },
  {
   "cell_type": "code",
   "execution_count": null,
   "id": "8271bfb0",
   "metadata": {
    "tags": []
   },
   "outputs": [],
   "source": [
    "items_values.index.values"
   ]
  },
  {
   "cell_type": "code",
   "execution_count": null,
   "id": "93a36b3a-9dd7-438a-b04d-8414a8e0b03e",
   "metadata": {
    "tags": []
   },
   "outputs": [],
   "source": [
    "items_values_dict = {}\n",
    "for i in range(items_values.shape[0]):\n",
    "    items_values_dict[i] = items_values.iloc[i,:]"
   ]
  },
  {
   "cell_type": "code",
   "execution_count": null,
   "id": "b7222810-6617-42cb-9794-b3b194fd981e",
   "metadata": {
    "tags": []
   },
   "outputs": [],
   "source": [
    "# Output doctionaries for further easier calculations\n",
    "# Items mapping to one-hot encoded vectors\n",
    "file_path = 'items_values_dict_ML1.pkl'\n",
    "\n",
    "# Open the file in write binary mode and use pickle.dump to save the dictionary\n",
    "with open(Path(export_dir, file_path), 'wb') as f:\n",
    "    pickle.dump(items_values_dict, f)   "
   ]
  },
  {
   "cell_type": "code",
   "execution_count": null,
   "id": "835a07d6-e0b8-403a-97a3-b90264499409",
   "metadata": {},
   "outputs": [],
   "source": [
    "items_values_dict[3704]"
   ]
  },
  {
   "cell_type": "code",
   "execution_count": null,
   "id": "678c233e-5616-4a8d-bc3d-95d6377e76a9",
   "metadata": {},
   "outputs": [],
   "source": [
    "data.user_id.unique()"
   ]
  },
  {
   "cell_type": "markdown",
   "id": "314f5fa7-0d44-4479-a46e-69b17ded37bd",
   "metadata": {},
   "source": [
    "## Split to training and test set"
   ]
  },
  {
   "cell_type": "code",
   "execution_count": null,
   "id": "adbeb6ea",
   "metadata": {
    "tags": []
   },
   "outputs": [],
   "source": [
    "random_state = 12\n",
    "\n",
    "# The list of users IDs\n",
    "users_indices = data.user_id.unique()\n",
    "\n",
    "# Set the split ratio (80% for training, 20% for testing)\n",
    "split_ratio = 0.8\n",
    "\n",
    "# Calculate the split index\n",
    "shuffled_users_ids = np.random.permutation(users_indices)\n",
    "split_index = int(len(shuffled_users_ids) * split_ratio)\n",
    "\n",
    "# Split the list of user IDs into training and testing sets\n",
    "train_user_ids = shuffled_users_ids[:split_index]\n",
    "test_user_ids = shuffled_users_ids[split_index:]"
   ]
  },
  {
   "cell_type": "code",
   "execution_count": null,
   "id": "26201527",
   "metadata": {
    "tags": []
   },
   "outputs": [],
   "source": [
    "# Split the user hot encoding matrix into training and testing sets based on the selected user IDs\n",
    "train_data = user_one_hot.loc[train_user_ids]\n",
    "test_data = user_one_hot.loc[test_user_ids]"
   ]
  },
  {
   "cell_type": "code",
   "execution_count": null,
   "id": "3adab0a1-6839-42fa-afba-856df4fbbf75",
   "metadata": {},
   "outputs": [],
   "source": [
    "train_data"
   ]
  },
  {
   "cell_type": "code",
   "execution_count": null,
   "id": "a1a6a6db-32ac-4c33-afc9-cb04a272a1e9",
   "metadata": {
    "tags": []
   },
   "outputs": [],
   "source": [
    "training_data = data[data.user_id.isin(train_user_ids)]\n",
    "\n",
    "# Group by item_id and aggregate user_id values into a list\n",
    "item_group = training_data.groupby(\"item_id\")\n",
    "\n",
    "items_data = pd.DataFrame(\n",
    "    data={\n",
    "        \"item_id\": list(item_group.groups.keys()),\n",
    "        \"users_ids\": list(item_group.user_id.apply(list)),\n",
    "    }    \n",
    ")"
   ]
  },
  {
   "cell_type": "code",
   "execution_count": null,
   "id": "ed0ca0e0-6a50-449d-a69c-7d017a9f9f57",
   "metadata": {
    "tags": []
   },
   "outputs": [],
   "source": [
    "items_data "
   ]
  },
  {
   "cell_type": "code",
   "execution_count": null,
   "id": "8fc3338e-158f-4e7c-88ed-f871df216828",
   "metadata": {
    "tags": []
   },
   "outputs": [],
   "source": [
    "def create_user_based_Jaccard_sim():\n",
    "    \"\"\"\n",
    "    calculate similarity between items based on users that consumed these items (Jaccard similarity)\n",
    "    \"\"\"\n",
    "    item_similarities = {}\n",
    "    for index1, row1 in items_data.iterrows():\n",
    "        for index2, row2 in items_data.iterrows():\n",
    "            if row1[\"item_id\"]!= row2[\"item_id\"]:\n",
    "                similarity = jaccard_similarity(set(row1[\"users_ids\"]), set(row2[\"users_ids\"]))\n",
    "            else:\n",
    "                similarity = 1\n",
    "            item_similarities[(row1[\"item_id\"], row2[\"item_id\"])] = similarity\n",
    "\n",
    "    return item_similarities "
   ]
  },
  {
   "cell_type": "code",
   "execution_count": null,
   "id": "73e709fc-2d77-4718-b531-86ec0f025a3c",
   "metadata": {
    "tags": []
   },
   "outputs": [],
   "source": [
    "user_similarities_Jaccard = create_user_based_Jaccard_sim()"
   ]
  },
  {
   "cell_type": "code",
   "execution_count": null,
   "id": "04d69ab8-fcc7-4985-9ffc-c4edc9404fbd",
   "metadata": {
    "tags": []
   },
   "outputs": [],
   "source": [
    "file_path = 'user_similarities_Jaccard_ML1.pkl'\n",
    "\n",
    "# Open a file in write binary mode and use pickle.dump to save the dictionary\n",
    "with open(Path(export_dir, file_path), 'wb') as f:\n",
    "    pickle.dump(user_similarities_Jaccard, f)\n",
    "\n",
    "\"\"\"\n",
    "with open(file_path, 'rb') as f:\n",
    "    user_similarities_Jaccard = pickle.load(f)\n",
    "\"\"\""
   ]
  },
  {
   "cell_type": "markdown",
   "id": "8e44ad0d",
   "metadata": {},
   "source": [
    "#### Use MultiLabelBinarizer to encode the user IDs for each item into a one-hot matrix"
   ]
  },
  {
   "cell_type": "code",
   "execution_count": null,
   "id": "273c792c-4221-4c88-96d1-b132487040ae",
   "metadata": {
    "tags": []
   },
   "outputs": [],
   "source": [
    "mlb = MultiLabelBinarizer(classes=train_user_ids)  # Only include train_user_ids\n",
    "item_one_hot = pd.DataFrame(\n",
    "    mlb.fit_transform(items_data[\"users_ids\"]),\n",
    "    columns=mlb.classes_,\n",
    "    index=items_data[\"item_id\"]\n",
    ")"
   ]
  },
  {
   "cell_type": "code",
   "execution_count": null,
   "id": "305d87b5-8a9d-4776-bdf7-0e5688f3e341",
   "metadata": {
    "tags": []
   },
   "outputs": [],
   "source": [
    "len(train_user_ids)"
   ]
  },
  {
   "cell_type": "code",
   "execution_count": null,
   "id": "9bfc00bc-db63-4d59-bccc-f5fb7960e82e",
   "metadata": {
    "tags": []
   },
   "outputs": [],
   "source": [
    "item_one_hot"
   ]
  },
  {
   "cell_type": "code",
   "execution_count": null,
   "id": "346f2535",
   "metadata": {
    "tags": []
   },
   "outputs": [],
   "source": [
    "def item_user_based_cos_sim():\n",
    "    \"\"\"\n",
    "    Item similarity based on cosine between user and item\n",
    "    \"\"\"\n",
    "    return cosine_similarity(item_one_hot)"
   ]
  },
  {
   "cell_type": "code",
   "execution_count": null,
   "id": "8da400bb-6018-4f0e-b670-adb99d4cfe55",
   "metadata": {
    "tags": []
   },
   "outputs": [],
   "source": [
    "cosine_items = item_user_based_cos_sim()"
   ]
  },
  {
   "cell_type": "code",
   "execution_count": null,
   "id": "52b773e6-29fd-45d2-bae8-fe06659c1b7b",
   "metadata": {
    "tags": []
   },
   "outputs": [],
   "source": [
    "cosine_items"
   ]
  },
  {
   "cell_type": "code",
   "execution_count": null,
   "id": "c3bd7139-77d0-41aa-9ddd-0e8b8ab166e7",
   "metadata": {
    "tags": []
   },
   "outputs": [],
   "source": [
    "cosine_items_dict = {}\n",
    "\n",
    "# Loop through the rows and columns of the ndarray and add each element to the dictionary\n",
    "for i in range(cosine_items.shape[0]):\n",
    "    for j in range(cosine_items.shape[1]):\n",
    "        cosine_items_dict[(i, j)] = cosine_items[i][j]"
   ]
  },
  {
   "cell_type": "code",
   "execution_count": null,
   "id": "91a80d28-5640-4d9c-8152-e6872ade755c",
   "metadata": {
    "tags": []
   },
   "outputs": [],
   "source": [
    "cosine_items_dict[(0,0)]"
   ]
  },
  {
   "cell_type": "code",
   "execution_count": null,
   "id": "2ada5339-cb46-407d-851b-f208738eb520",
   "metadata": {
    "tags": []
   },
   "outputs": [],
   "source": [
    "file_path = 'cosine_items_ML1.pkl'\n",
    "\n",
    "# Open the file in write binary mode and use pickle.dump to save the dictionary\n",
    "with open(Path(export_dir, file_path), 'wb') as f:\n",
    "    pickle.dump(cosine_items_dict, f)"
   ]
  },
  {
   "cell_type": "code",
   "execution_count": null,
   "id": "3a3e4efa-1c12-4045-8eb4-43fb9047dc7c",
   "metadata": {
    "tags": []
   },
   "outputs": [],
   "source": [
    "cosine_items = cosine_items_dict"
   ]
  },
  {
   "cell_type": "markdown",
   "id": "6897440e",
   "metadata": {},
   "source": [
    "### Add negative examples to training data & Calculate the popularity of each item in the training set"
   ]
  },
  {
   "cell_type": "code",
   "execution_count": null,
   "id": "943d3530",
   "metadata": {
    "tags": []
   },
   "outputs": [],
   "source": [
    "popularity_dict = train_data.iloc[:,:-2].sum(axis=0).to_dict()"
   ]
  },
  {
   "cell_type": "code",
   "execution_count": null,
   "id": "47fe268a-997e-4faf-80c4-cb21426f446e",
   "metadata": {
    "tags": []
   },
   "outputs": [],
   "source": [
    "popularity_dict[3705] "
   ]
  },
  {
   "cell_type": "code",
   "execution_count": null,
   "id": "6df5cde8-0af8-468f-b77f-44cbf56de3e9",
   "metadata": {},
   "outputs": [],
   "source": [
    "file_path ='pop_dict.pkl'\n",
    "\n",
    "with open(Path(export_dir, file_path), 'wb') as f:\n",
    "    pickle.dump(popularity_dict, f)"
   ]
  },
  {
   "cell_type": "code",
   "execution_count": null,
   "id": "849b3756-4572-4899-a8e4-865b4d44da7f",
   "metadata": {
    "tags": []
   },
   "outputs": [],
   "source": [
    "np.sum(train_data.iloc[:,3704])"
   ]
  },
  {
   "cell_type": "code",
   "execution_count": null,
   "id": "c45e19fa-13c2-422e-8cb2-6f11acd12c53",
   "metadata": {
    "tags": []
   },
   "outputs": [],
   "source": [
    "prob_dict = {}\n",
    "for k, v in popularity_dict.items():\n",
    "    prob_dict[k] = v / sum(popularity_dict.values())\n",
    "print(len(prob_dict))"
   ]
  },
  {
   "cell_type": "code",
   "execution_count": null,
   "id": "450a0368-41f8-4501-9e32-059966c3efb0",
   "metadata": {},
   "outputs": [],
   "source": [
    "file_path ='prob_dict.pkl'\n",
    "\n",
    "with open(Path(export_dir, file_path), 'wb') as f:\n",
    "    pickle.dump(prob_dict, f)"
   ]
  },
  {
   "cell_type": "code",
   "execution_count": null,
   "id": "29de5b25-1cdd-498f-9f32-ac9602cbf7e9",
   "metadata": {
    "tags": []
   },
   "outputs": [],
   "source": [
    "sorted(prob_dict.items(), key=operator.itemgetter(1),reverse=True)[0]"
   ]
  },
  {
   "cell_type": "code",
   "execution_count": null,
   "id": "845995c6-8e9d-48d8-bb9f-ae2a5e20112e",
   "metadata": {
    "tags": []
   },
   "outputs": [],
   "source": [
    "def get_negative_samples(numpy_arr,num):\n",
    "    \"\"\"\n",
    "    Sample negative points for training\n",
    "    \"\"\"\n",
    "    negative_values = []\n",
    "    users_arr = np.split(numpy_arr[:, 1], np.unique(numpy_arr[:, 0], return_index=True)[1][1:])\n",
    "    for u in users_arr:\n",
    "        items_from_dict_keys = [d for d in popularity_dict.keys() if d in u]\n",
    "        sum_popularity= 0\n",
    "        for it in items_from_dict_keys:\n",
    "            sum_popularity += popularity_dict[it] \n",
    "        items_probs = [popularity_dict[d]/sum_popularity for d in items_from_dict_keys]\n",
    "        negative_samples = np.random.choice(items_from_dict_keys,size=num,replace=False,p=items_probs)\n",
    "        if(num == 1):\n",
    "            negative_values.append(int(negative_samples))\n",
    "        else:\n",
    "            negative_values.append(negative_samples) \n",
    "                               \n",
    "    return negative_values   "
   ]
  },
  {
   "cell_type": "code",
   "execution_count": null,
   "id": "77aeb35d-95be-47e5-848f-ebc347f4dd0c",
   "metadata": {
    "tags": []
   },
   "outputs": [],
   "source": [
    "y_negative = get_negative_samples(np.argwhere(train_data.iloc[:,:-2].to_numpy()==0), num=1)"
   ]
  },
  {
   "cell_type": "code",
   "execution_count": null,
   "id": "05a1001d-ebba-44c7-9d07-64f3f721d322",
   "metadata": {
    "tags": []
   },
   "outputs": [],
   "source": [
    "train_data[\"y_negative\"] = y_negative"
   ]
  },
  {
   "cell_type": "code",
   "execution_count": null,
   "id": "69ac8e59-e093-4c99-ba34-88f39b8bbab8",
   "metadata": {
    "tags": []
   },
   "outputs": [],
   "source": [
    "train_data.head()"
   ]
  },
  {
   "cell_type": "code",
   "execution_count": null,
   "id": "e0036609-1467-4d59-8ea3-6280874c5acc",
   "metadata": {
    "tags": []
   },
   "outputs": [],
   "source": [
    "train_data"
   ]
  },
  {
   "cell_type": "markdown",
   "id": "7c3cf8b2",
   "metadata": {},
   "source": [
    "### Positive and Negative examples merged together"
   ]
  },
  {
   "cell_type": "code",
   "execution_count": null,
   "id": "381ff222-8524-416f-83ff-52a59e5d632a",
   "metadata": {
    "tags": []
   },
   "outputs": [],
   "source": [
    "train_data_mixed = train_data.merge(train_data.loc[:,['user_id','y_positive','y_negative']].melt('user_id', value_name='y_values').replace({'y_positive': 1, 'y_negative': 0}), on=\"user_id\").rename(columns={'variable': 'interaction'}).drop(['y_positive', 'y_negative'],axis=1)"
   ]
  },
  {
   "cell_type": "code",
   "execution_count": null,
   "id": "b42d2a3c-12ae-4652-abf5-5604509f88fc",
   "metadata": {
    "tags": []
   },
   "outputs": [],
   "source": [
    "train_data_mixed.head()"
   ]
  },
  {
   "cell_type": "code",
   "execution_count": null,
   "id": "479c204f-a9cb-4d97-bccd-a536e4192411",
   "metadata": {
    "tags": []
   },
   "outputs": [],
   "source": [
    "train_data_mixed.to_csv(Path(export_dir,'train_data_mixed.csv'), index=False)"
   ]
  },
  {
   "cell_type": "code",
   "execution_count": null,
   "id": "a154033f-5fed-41a0-88f7-26de7d2e664e",
   "metadata": {},
   "outputs": [],
   "source": [
    "train_data_mixed.describe()"
   ]
  },
  {
   "cell_type": "code",
   "execution_count": null,
   "id": "c7cb73ef-0d8a-4a52-a81b-980b7f299355",
   "metadata": {},
   "outputs": [],
   "source": [
    "test_data.to_csv(Path(export_dir, \"test_data.csv\"), index = False)"
   ]
  },
  {
   "cell_type": "markdown",
   "id": "94c38c17",
   "metadata": {},
   "source": [
    "### Create tf_idf file upon training data interactions"
   ]
  },
  {
   "cell_type": "code",
   "execution_count": null,
   "id": "aced6671-e9d9-42b8-88c3-7a5adc8a901d",
   "metadata": {},
   "outputs": [],
   "source": [
    "train_array = train_data_mixed.to_numpy()\n",
    "test_array = test_data.to_numpy()"
   ]
  },
  {
   "cell_type": "code",
   "execution_count": null,
   "id": "4e7a409d-afea-42ee-ae60-b990a1e3ba65",
   "metadata": {},
   "outputs": [],
   "source": [
    "# Tf/idf calculation\n",
    "import numpy as np\n",
    "\n",
    "train_data =(train_array[train_array[:,-2]==0][:,:-3]).T\n",
    "test_data = (test_array[:,:-2]).T\n",
    "\n",
    "# Compute the IDF scores for each item in the train data\n",
    "num_docs = train_data.shape[0]\n",
    "idf = np.log(num_docs / (np.sum(train_data, axis=0) + 1))\n",
    "\n",
    "# Compute the TF-IDF scores for each item in the train data\n",
    "tfidf_matrix = np.zeros(train_data.shape)\n",
    "for i in range(train_data.shape[1]):\n",
    "    tf = train_data[:, i] / np.sum(train_data[:, i])\n",
    "    tfidf_matrix[:, i] = tf * idf[i]  \n",
    "\n",
    "tf_idf_items_dict = {(i, j): tfidf_matrix[i, j] for i in range(tfidf_matrix.shape[0]) for j in range(tfidf_matrix.shape[1])}"
   ]
  },
  {
   "cell_type": "code",
   "execution_count": null,
   "id": "51151a5e-a8af-4a99-9e08-e6e8ce8cfa4e",
   "metadata": {},
   "outputs": [],
   "source": [
    "file_path = 'tf_idf_items_ML1.pkl'\n",
    "\n",
    "# Open the file in write binary mode and use pickle.dump to save the dictionary\n",
    "with open(Path(export_dir, file_path), 'wb') as f:\n",
    "    pickle.dump(tf_idf_items_dict, f)"
   ]
  },
  {
   "cell_type": "markdown",
   "id": "80927b95-d140-4fe7-8cbd-536e32647d66",
   "metadata": {},
   "source": [
    "## Recommender model training"
   ]
  },
  {
   "cell_type": "code",
   "execution_count": null,
   "id": "19daada0-33f0-4445-920e-ed3e6d33d074",
   "metadata": {},
   "outputs": [],
   "source": [
    "class MLP_G(nn.Module):\n",
    "    def __init__(self, input_size, hidden_size):\n",
    "        super(MLP_G, self).__init__()\n",
    "        self.linear_x = nn.Linear(input_size, hidden_size, bias = False)\n",
    "        self.linear_y = nn.Linear(input_size, hidden_size, bias = False)\n",
    "        self.sigmoid = nn.Sigmoid()\n",
    "        \n",
    "    def forward(self, user, item):\n",
    "        user_representation = self.linear_x(user.float())\n",
    "        item_representation = self.linear_y(item.float())\n",
    "        dot_prod = torch.matmul(user_representation, item_representation.T)\n",
    "        dot_sigmoid = self.sigmoid(dot_prod)\n",
    "        \n",
    "        return dot_sigmoid"
   ]
  },
  {
   "cell_type": "code",
   "execution_count": null,
   "id": "b8f57abe-bdcd-4933-9ad1-c957bc6d8b9f",
   "metadata": {},
   "outputs": [],
   "source": [
    "class Recommender_G(nn.Module):\n",
    "    def __init__(self, num_items, hidden_size):\n",
    "        super(Recommender_G, self).__init__()\n",
    "        self.mlp = MLP_G(num_items, hidden_size).to(device)\n",
    "\n",
    "    def forward(self, user_vector, item_vector):\n",
    "        user_vector = user_vector.to(device)\n",
    "        item_vector = item_vector.to(device)\n",
    "        output = self.mlp(user_vector, item_vector)\n",
    "        return output.to(device)"
   ]
  },
  {
   "cell_type": "code",
   "execution_count": null,
   "id": "50ed9947-1e0b-456a-ada4-2e5068c1b06f",
   "metadata": {},
   "outputs": [],
   "source": [
    "def get_top_k(user_vector, original_user_vector, num_items, model, top_k):\n",
    "    item_prob_dict = {}\n",
    "    user_tensor = torch.Tensor(user_vector).to(device)\n",
    "    item_tensor = torch.FloatTensor(items_array).to(device)\n",
    "    output_model = [float(i) for i in model(user_tensor, item_tensor).cpu().detach().numpy()]\n",
    "    \n",
    "    original_user_vector = np.array(original_user_vector.cpu())\n",
    "    neg = np.ones_like(original_user_vector)- original_user_vector\n",
    "    output = neg*output_model\n",
    "    for i in range(len(output)):\n",
    "        item_prob_dict[i]=output[i]\n",
    "\n",
    "    sorted_items_by_prob  = sorted(item_prob_dict.items(), key=lambda item: item[1],reverse=True)\n",
    "\n",
    "    return dict(sorted_items_by_prob[0:top_k])"
   ]
  },
  {
   "cell_type": "code",
   "execution_count": null,
   "id": "99f9ffc1-b35f-458a-9482-d0b8f18b6e99",
   "metadata": {},
   "outputs": [],
   "source": [
    "device = torch.device(\"cuda\" if torch.cuda.is_available() else \"cpu\")\n",
    "hidden_dim = 20\n",
    "print(\"num_users is \", num_users)\n",
    "print(\"num_items is \", num_items)\n",
    "recommender_model_g = Recommender_G(num_items, hidden_dim)\n",
    "recommender_loss_g = nn.BCELoss()\n",
    "recommender_optimizer_g = torch.optim.Adam(recommender_model_g.parameters(), lr=0.001)"
   ]
  },
  {
   "cell_type": "code",
   "execution_count": null,
   "id": "89756be1-fb70-4488-8a5e-02f8984a5390",
   "metadata": {},
   "outputs": [],
   "source": [
    "train_losses = []\n",
    "epochs = 10\n",
    "\n",
    "for epoch in range(epochs):\n",
    "    if epoch == 20:\n",
    "        recommender_optimizer.lr = 0.0001\n",
    "    train_loss = 0\n",
    "    for i in range(train_array.shape[0]):\n",
    "        item_id = train_array[i][-1]\n",
    "        user_id = train_array[i][-3]\n",
    "        item_vector = items_values_dict[item_id]\n",
    "        user_vector = train_array[i][:-3]\n",
    "        user_vector[item_id] = 0 \n",
    "        interact = train_array[i][-2]\n",
    "        \n",
    "        user_tensor = torch.FloatTensor(user_vector).to(device)\n",
    "        item_tensor = torch.FloatTensor(item_vector).to(device)\n",
    "      \n",
    "        interact_tensor = torch.FloatTensor([interact]).to(device)\n",
    "        interact_tensor = torch.tensor(interact_tensor.item()).to(device)\n",
    "        \n",
    "        recommender_optimizer_g.zero_grad()\n",
    "        recommender_output = (recommender_model_g(user_tensor, item_tensor)).to(device)\n",
    "        rec_loss = recommender_loss_g(recommender_output, interact_tensor)\n",
    "        \n",
    "        train_loss+=rec_loss.item()\n",
    "            \n",
    "        rec_loss.backward()\n",
    "        recommender_optimizer_g.step()\n",
    "    train_losses.append(train_loss/train_array.shape[0])\n",
    "    print(f\"Epoch {epoch}, Train Loss {train_loss/train_array.shape[0]:.4f}\")"
   ]
  },
  {
   "cell_type": "code",
   "execution_count": null,
   "id": "84ad0b0b-77a3-4f48-bf03-9c1b27dde719",
   "metadata": {},
   "outputs": [],
   "source": [
    "torch.save(recommender_model_g.state_dict(), Path(export_dir, 'recommender_model.pt'))"
   ]
  },
  {
   "cell_type": "markdown",
   "id": "cc4c396d",
   "metadata": {},
   "source": [
    "### Recommender Freezing"
   ]
  },
  {
   "cell_type": "code",
   "execution_count": null,
   "id": "58b032f9-3170-44bc-a8c9-5a7fd71afd5c",
   "metadata": {},
   "outputs": [],
   "source": [
    "for param in recommender_model_g.parameters():\n",
    "    param.requires_grad = False"
   ]
  },
  {
   "cell_type": "code",
   "execution_count": null,
   "id": "36d53978-3c19-44b8-b919-2781ee18e75f",
   "metadata": {},
   "outputs": [],
   "source": [
    "# Get users vectors to create topk\n",
    "unique_indices = np.unique(train_array[:,-3], return_index=True, axis=0)[1]\n",
    "\n",
    "# create a new array with only the unique users\n",
    "train_unique_arr = train_array[unique_indices, :]\n",
    "items_array = items_values.to_numpy()"
   ]
  },
  {
   "cell_type": "code",
   "execution_count": null,
   "id": "014ad200-a460-4992-b0e1-c8281fbbc6ee",
   "metadata": {},
   "outputs": [],
   "source": [
    "def create_topk_data(data_, rec_model, data_type = \"train\"):\n",
    "    \"\"\"\n",
    "    Create top_k dictionary that contains user, item, score for the rec_model and is stored as (user_id, item_id, score) values\n",
    "    \"\"\"\n",
    "    user_item_matrix = np.zeros((num_users, num_items))\n",
    "    \n",
    "    for i in range(data_.shape[0]):\n",
    "\n",
    "        if(data_type == \"train\"):\n",
    "            user_id = data_[i][-3]\n",
    "            user_vector = data_[i][:-3]\n",
    "        elif(data_type == \"test\"):\n",
    "            user_id = data_[i][-2]\n",
    "            user_vector = data_[i][:-2]\n",
    "            \n",
    "        user_tensor = torch.FloatTensor(user_vector).to(device)\n",
    "            \n",
    "        top_items = get_top_k(user_tensor, user_tensor, num_items, rec_model, num_items)\n",
    "      \n",
    "        for item_id in top_items.keys(): \n",
    "            user_item_matrix[user_id, item_id] = top_items[item_id]\n",
    "        \n",
    "        if(i % 100 == 0):\n",
    "            print(i)\n",
    "            \n",
    "    return user_item_matrix"
   ]
  },
  {
   "cell_type": "code",
   "execution_count": null,
   "id": "b562a9a5-4a89-459a-8fc2-f7b20aa0f5ce",
   "metadata": {
    "tags": []
   },
   "outputs": [],
   "source": [
    "topk_train = create_topk_data(train_unique_arr, recommender_model_g, data_type=\"train\")"
   ]
  },
  {
   "cell_type": "code",
   "execution_count": null,
   "id": "649911e9-f86e-4813-88dc-1ef6a23fc790",
   "metadata": {},
   "outputs": [],
   "source": [
    "topk_test = create_topk_data(test_array, recommender_model_g, data_type=\"test\")"
   ]
  },
  {
   "cell_type": "code",
   "execution_count": null,
   "id": "befc9d7e-f565-49ec-a864-59a00caa9270",
   "metadata": {},
   "outputs": [],
   "source": [
    "file_path= 'topk_train.pkl'\n",
    "\n",
    "with open(Path(export_dir, file_path), 'wb') as f:\n",
    "    pickle.dump(topk_train, f)"
   ]
  },
  {
   "cell_type": "code",
   "execution_count": null,
   "id": "6b73dda4-a415-437e-b08f-f55e805b258f",
   "metadata": {},
   "outputs": [],
   "source": [
    "file_path = 'topk_test.pkl'\n",
    "\n",
    "with open(Path(export_dir, file_path), 'wb') as f:\n",
    "    pickle.dump(topk_test, f)"
   ]
  },
  {
   "cell_type": "code",
   "execution_count": null,
   "id": "f9641a83-fe05-4243-8ba4-cac1bdc74a10",
   "metadata": {},
   "outputs": [],
   "source": []
  }
 ],
 "metadata": {
  "kernelspec": {
   "display_name": "Python 3 (ipykernel)",
   "language": "python",
   "name": "python3"
  },
  "language_info": {
   "codemirror_mode": {
    "name": "ipython",
    "version": 3
   },
   "file_extension": ".py",
   "mimetype": "text/x-python",
   "name": "python",
   "nbconvert_exporter": "python",
   "pygments_lexer": "ipython3",
   "version": "3.10.6"
  }
 },
 "nbformat": 4,
 "nbformat_minor": 5
}
